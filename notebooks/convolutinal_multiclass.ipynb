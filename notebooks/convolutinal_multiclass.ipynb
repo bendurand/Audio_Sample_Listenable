{
  "nbformat": 4,
  "nbformat_minor": 0,
  "metadata": {
    "colab": {
      "provenance": []
    },
    "kernelspec": {
      "name": "python3",
      "display_name": "Python 3"
    },
    "language_info": {
      "name": "python"
    }
  },
  "cells": [
    {
      "cell_type": "markdown",
      "source": [
        "#Convolutional neural network"
      ],
      "metadata": {
        "id": "golhMBs-GK6l"
      }
    },
    {
      "cell_type": "markdown",
      "source": [
        "###import library"
      ],
      "metadata": {
        "id": "H8wFQNImGTLT"
      }
    },
    {
      "cell_type": "code",
      "execution_count": null,
      "metadata": {
        "id": "mcKhod0UGKSD"
      },
      "outputs": [],
      "source": [
        "import pandas as pd\n",
        "import numpy as np\n",
        "import matplotlib.pylab as plt\n",
        "import seaborn as sns\n",
        "\n",
        "from glob import glob\n",
        "#Le module glob recherche tous les chemins correspondant à un motif \n",
        "#particulier selon les règles utilisées par le shell Unix, les résultats sont renvoyés dans un ordre arbitraire.\n",
        "\n",
        "import librosa\n",
        "import librosa.display\n",
        "import IPython.display as ipd\n",
        "\n",
        "from tqdm import tqdm\n",
        "import os"
      ]
    },
    {
      "cell_type": "markdown",
      "source": [
        "###Création mel spectrogramme pour chaque fichier audio"
      ],
      "metadata": {
        "id": "OkyI8_EAGibX"
      }
    },
    {
      "cell_type": "code",
      "source": [
        "feature_list = []\n",
        "label_list = []\n",
        "dictMel = {}\n",
        "# Iterate over all files in given source path\n",
        "print('Preparing feature dataset and labels.')\n",
        "for file in tqdm(os.listdir('.')):\n",
        "    # Skip if it's not a wav file\n",
        "    if not file.endswith('.wav'):\n",
        "        continue\n",
        "    # Load audio and stretch it to length 1s\n",
        "    audio_path = os.path.join('.', file)\n",
        "    audio, sr = librosa.load(path=audio_path, sr=None)\n",
        "    audio = librosa.effects.time_stretch(y=audio, rate=len(audio)/sr)\n",
        "    # Calculate features and get the label from the filename\n",
        "    mels = librosa.feature.melspectrogram(y=audio, sr=sr, n_fft=2048, hop_length=512)\n",
        "    mels_db = librosa.power_to_db(S=mels, ref=1.0)\n",
        "    if mels_db.shape == (128,87):\n",
        "      feature_list.append(mels_db.reshape((128, 87, 1)))\n",
        "      filename = int(str(file)[:-4])\n",
        "      label_list.append(filename)\n",
        "      dictMel[filename] = mels_db\n",
        "features = np.array(feature_list)\n",
        "labels = np.array(label_list)"
      ],
      "metadata": {
        "colab": {
          "base_uri": "https://localhost:8080/"
        },
        "id": "XdDieOokGg6D",
        "outputId": "3f925a42-5a00-4af6-aa6c-ca212f23add5"
      },
      "execution_count": null,
      "outputs": [
        {
          "output_type": "stream",
          "name": "stdout",
          "text": [
            "Preparing feature dataset and labels.\n"
          ]
        },
        {
          "output_type": "stream",
          "name": "stderr",
          "text": [
            " 31%|███       | 93/303 [00:03<00:07, 27.41it/s]/usr/local/lib/python3.7/dist-packages/librosa/core/spectrum.py:224: UserWarning: n_fft=2048 is too small for input signal of length=2000\n",
            "  n_fft, y.shape[-1]\n",
            "100%|██████████| 303/303 [00:11<00:00, 26.32it/s]\n"
          ]
        }
      ]
    },
    {
      "cell_type": "code",
      "source": [
        "features.shape"
      ],
      "metadata": {
        "colab": {
          "base_uri": "https://localhost:8080/"
        },
        "id": "qVWCWk-XUcfU",
        "outputId": "ca0d3495-ce28-4c01-c3bd-7c9b464ff1be"
      },
      "execution_count": null,
      "outputs": [
        {
          "output_type": "execute_result",
          "data": {
            "text/plain": [
              "(292, 128, 87, 1)"
            ]
          },
          "metadata": {},
          "execution_count": 664
        }
      ]
    },
    {
      "cell_type": "code",
      "source": [
        "labels.shape"
      ],
      "metadata": {
        "colab": {
          "base_uri": "https://localhost:8080/"
        },
        "id": "DQNAdMB8UhbY",
        "outputId": "3cb9242d-c38a-4181-d215-d045d661d4e2"
      },
      "execution_count": null,
      "outputs": [
        {
          "output_type": "execute_result",
          "data": {
            "text/plain": [
              "(292,)"
            ]
          },
          "metadata": {},
          "execution_count": 665
        }
      ]
    },
    {
      "cell_type": "markdown",
      "source": [
        "###Tri des élements par ordre de nom de fichier"
      ],
      "metadata": {
        "id": "dW-HJZ8iGtci"
      }
    },
    {
      "cell_type": "code",
      "source": [
        "dataMel = pd.Series(dictMel)\n",
        "dataMel=dataMel.sort_index()\n",
        "listMel =dataMel.to_list()\n",
        "liste_son=dataMel.index.to_list()"
      ],
      "metadata": {
        "id": "PXINSSfHGcSh"
      },
      "execution_count": null,
      "outputs": []
    },
    {
      "cell_type": "markdown",
      "source": [
        "###On converti en matrice 3D"
      ],
      "metadata": {
        "id": "ZJvTShBoG-QI"
      }
    },
    {
      "cell_type": "code",
      "source": [
        "def list_to_matrix(X):\n",
        "  matrix = np.zeros(shape=(len(X),128, 87))\n",
        "  for i in range(len(X)):\n",
        "    if X[i].shape == (128, 87):\n",
        "      #print(X[i].shape, ' son num : ',i)\n",
        "      matrix[i]=X[i]\n",
        "  return matrix\n",
        "\n",
        "matrix = list_to_matrix(listMel)"
      ],
      "metadata": {
        "id": "ozld-IhdHEzj"
      },
      "execution_count": null,
      "outputs": []
    },
    {
      "cell_type": "markdown",
      "source": [
        "###Récupération des labels"
      ],
      "metadata": {
        "id": "qavyjVdwHMsi"
      }
    },
    {
      "cell_type": "code",
      "source": [
        "datacomp=pd.read_csv(\"Labels3files.csv\",sep=\";\")"
      ],
      "metadata": {
        "id": "JsEgd5g_HRQ0"
      },
      "execution_count": null,
      "outputs": []
    },
    {
      "cell_type": "code",
      "source": [
        "datacomp['nomSon']=datacomp['nomSon'].str.replace(r\"[-;]\", '',regex =True).astype(int)\n",
        "datacomp.head()"
      ],
      "metadata": {
        "colab": {
          "base_uri": "https://localhost:8080/",
          "height": 204
        },
        "id": "dft5G0gbmEF5",
        "outputId": "99ca234b-2b69-4ed7-c3a5-dd572e78762d"
      },
      "execution_count": null,
      "outputs": [
        {
          "output_type": "execute_result",
          "data": {
            "text/plain": [
              "  Moyenne   Mediane  nomSon\n",
              "0    1,143        1       0\n",
              "1        0        0      57\n",
              "2    0,857        2      94\n",
              "3    0,714        1     110\n",
              "4    1,571        2     135"
            ],
            "text/html": [
              "\n",
              "  <div id=\"df-be1d0c20-6431-4e03-b2ac-fca4b141cc59\">\n",
              "    <div class=\"colab-df-container\">\n",
              "      <div>\n",
              "<style scoped>\n",
              "    .dataframe tbody tr th:only-of-type {\n",
              "        vertical-align: middle;\n",
              "    }\n",
              "\n",
              "    .dataframe tbody tr th {\n",
              "        vertical-align: top;\n",
              "    }\n",
              "\n",
              "    .dataframe thead th {\n",
              "        text-align: right;\n",
              "    }\n",
              "</style>\n",
              "<table border=\"1\" class=\"dataframe\">\n",
              "  <thead>\n",
              "    <tr style=\"text-align: right;\">\n",
              "      <th></th>\n",
              "      <th>Moyenne</th>\n",
              "      <th>Mediane</th>\n",
              "      <th>nomSon</th>\n",
              "    </tr>\n",
              "  </thead>\n",
              "  <tbody>\n",
              "    <tr>\n",
              "      <th>0</th>\n",
              "      <td>1,143</td>\n",
              "      <td>1</td>\n",
              "      <td>0</td>\n",
              "    </tr>\n",
              "    <tr>\n",
              "      <th>1</th>\n",
              "      <td>0</td>\n",
              "      <td>0</td>\n",
              "      <td>57</td>\n",
              "    </tr>\n",
              "    <tr>\n",
              "      <th>2</th>\n",
              "      <td>0,857</td>\n",
              "      <td>2</td>\n",
              "      <td>94</td>\n",
              "    </tr>\n",
              "    <tr>\n",
              "      <th>3</th>\n",
              "      <td>0,714</td>\n",
              "      <td>1</td>\n",
              "      <td>110</td>\n",
              "    </tr>\n",
              "    <tr>\n",
              "      <th>4</th>\n",
              "      <td>1,571</td>\n",
              "      <td>2</td>\n",
              "      <td>135</td>\n",
              "    </tr>\n",
              "  </tbody>\n",
              "</table>\n",
              "</div>\n",
              "      <button class=\"colab-df-convert\" onclick=\"convertToInteractive('df-be1d0c20-6431-4e03-b2ac-fca4b141cc59')\"\n",
              "              title=\"Convert this dataframe to an interactive table.\"\n",
              "              style=\"display:none;\">\n",
              "        \n",
              "  <svg xmlns=\"http://www.w3.org/2000/svg\" height=\"24px\"viewBox=\"0 0 24 24\"\n",
              "       width=\"24px\">\n",
              "    <path d=\"M0 0h24v24H0V0z\" fill=\"none\"/>\n",
              "    <path d=\"M18.56 5.44l.94 2.06.94-2.06 2.06-.94-2.06-.94-.94-2.06-.94 2.06-2.06.94zm-11 1L8.5 8.5l.94-2.06 2.06-.94-2.06-.94L8.5 2.5l-.94 2.06-2.06.94zm10 10l.94 2.06.94-2.06 2.06-.94-2.06-.94-.94-2.06-.94 2.06-2.06.94z\"/><path d=\"M17.41 7.96l-1.37-1.37c-.4-.4-.92-.59-1.43-.59-.52 0-1.04.2-1.43.59L10.3 9.45l-7.72 7.72c-.78.78-.78 2.05 0 2.83L4 21.41c.39.39.9.59 1.41.59.51 0 1.02-.2 1.41-.59l7.78-7.78 2.81-2.81c.8-.78.8-2.07 0-2.86zM5.41 20L4 18.59l7.72-7.72 1.47 1.35L5.41 20z\"/>\n",
              "  </svg>\n",
              "      </button>\n",
              "      \n",
              "  <style>\n",
              "    .colab-df-container {\n",
              "      display:flex;\n",
              "      flex-wrap:wrap;\n",
              "      gap: 12px;\n",
              "    }\n",
              "\n",
              "    .colab-df-convert {\n",
              "      background-color: #E8F0FE;\n",
              "      border: none;\n",
              "      border-radius: 50%;\n",
              "      cursor: pointer;\n",
              "      display: none;\n",
              "      fill: #1967D2;\n",
              "      height: 32px;\n",
              "      padding: 0 0 0 0;\n",
              "      width: 32px;\n",
              "    }\n",
              "\n",
              "    .colab-df-convert:hover {\n",
              "      background-color: #E2EBFA;\n",
              "      box-shadow: 0px 1px 2px rgba(60, 64, 67, 0.3), 0px 1px 3px 1px rgba(60, 64, 67, 0.15);\n",
              "      fill: #174EA6;\n",
              "    }\n",
              "\n",
              "    [theme=dark] .colab-df-convert {\n",
              "      background-color: #3B4455;\n",
              "      fill: #D2E3FC;\n",
              "    }\n",
              "\n",
              "    [theme=dark] .colab-df-convert:hover {\n",
              "      background-color: #434B5C;\n",
              "      box-shadow: 0px 1px 3px 1px rgba(0, 0, 0, 0.15);\n",
              "      filter: drop-shadow(0px 1px 2px rgba(0, 0, 0, 0.3));\n",
              "      fill: #FFFFFF;\n",
              "    }\n",
              "  </style>\n",
              "\n",
              "      <script>\n",
              "        const buttonEl =\n",
              "          document.querySelector('#df-be1d0c20-6431-4e03-b2ac-fca4b141cc59 button.colab-df-convert');\n",
              "        buttonEl.style.display =\n",
              "          google.colab.kernel.accessAllowed ? 'block' : 'none';\n",
              "\n",
              "        async function convertToInteractive(key) {\n",
              "          const element = document.querySelector('#df-be1d0c20-6431-4e03-b2ac-fca4b141cc59');\n",
              "          const dataTable =\n",
              "            await google.colab.kernel.invokeFunction('convertToInteractive',\n",
              "                                                     [key], {});\n",
              "          if (!dataTable) return;\n",
              "\n",
              "          const docLinkHtml = 'Like what you see? Visit the ' +\n",
              "            '<a target=\"_blank\" href=https://colab.research.google.com/notebooks/data_table.ipynb>data table notebook</a>'\n",
              "            + ' to learn more about interactive tables.';\n",
              "          element.innerHTML = '';\n",
              "          dataTable['output_type'] = 'display_data';\n",
              "          await google.colab.output.renderOutput(dataTable, element);\n",
              "          const docLink = document.createElement('div');\n",
              "          docLink.innerHTML = docLinkHtml;\n",
              "          element.appendChild(docLink);\n",
              "        }\n",
              "      </script>\n",
              "    </div>\n",
              "  </div>\n",
              "  "
            ]
          },
          "metadata": {},
          "execution_count": 669
        }
      ]
    },
    {
      "cell_type": "code",
      "source": [
        "datacomp=datacomp[datacomp['nomSon'].isin(liste_son)]"
      ],
      "metadata": {
        "id": "A754E_XkmyEw"
      },
      "execution_count": null,
      "outputs": []
    },
    {
      "cell_type": "code",
      "source": [
        "datacomp"
      ],
      "metadata": {
        "colab": {
          "base_uri": "https://localhost:8080/",
          "height": 419
        },
        "id": "L0nJJivfvU68",
        "outputId": "86ce1e3e-71c4-489f-cf15-b082f633c8f7"
      },
      "execution_count": null,
      "outputs": [
        {
          "output_type": "execute_result",
          "data": {
            "text/plain": [
              "         Moyenne   Mediane  nomSon\n",
              "0           1,143        1       0\n",
              "1               0        0      57\n",
              "2           0,857        2      94\n",
              "3           0,714        1     110\n",
              "4           1,571        2     135\n",
              "..            ...      ...     ...\n",
              "294   0,714285714        1   13572\n",
              "295   0,285714286        0   13644\n",
              "296  -1,714285714       -2   13674\n",
              "297   0,571428571        1   13755\n",
              "298   0,857142857        1   13778\n",
              "\n",
              "[292 rows x 3 columns]"
            ],
            "text/html": [
              "\n",
              "  <div id=\"df-7529fa3a-b470-4f71-b74e-8a376c31b1b3\">\n",
              "    <div class=\"colab-df-container\">\n",
              "      <div>\n",
              "<style scoped>\n",
              "    .dataframe tbody tr th:only-of-type {\n",
              "        vertical-align: middle;\n",
              "    }\n",
              "\n",
              "    .dataframe tbody tr th {\n",
              "        vertical-align: top;\n",
              "    }\n",
              "\n",
              "    .dataframe thead th {\n",
              "        text-align: right;\n",
              "    }\n",
              "</style>\n",
              "<table border=\"1\" class=\"dataframe\">\n",
              "  <thead>\n",
              "    <tr style=\"text-align: right;\">\n",
              "      <th></th>\n",
              "      <th>Moyenne</th>\n",
              "      <th>Mediane</th>\n",
              "      <th>nomSon</th>\n",
              "    </tr>\n",
              "  </thead>\n",
              "  <tbody>\n",
              "    <tr>\n",
              "      <th>0</th>\n",
              "      <td>1,143</td>\n",
              "      <td>1</td>\n",
              "      <td>0</td>\n",
              "    </tr>\n",
              "    <tr>\n",
              "      <th>1</th>\n",
              "      <td>0</td>\n",
              "      <td>0</td>\n",
              "      <td>57</td>\n",
              "    </tr>\n",
              "    <tr>\n",
              "      <th>2</th>\n",
              "      <td>0,857</td>\n",
              "      <td>2</td>\n",
              "      <td>94</td>\n",
              "    </tr>\n",
              "    <tr>\n",
              "      <th>3</th>\n",
              "      <td>0,714</td>\n",
              "      <td>1</td>\n",
              "      <td>110</td>\n",
              "    </tr>\n",
              "    <tr>\n",
              "      <th>4</th>\n",
              "      <td>1,571</td>\n",
              "      <td>2</td>\n",
              "      <td>135</td>\n",
              "    </tr>\n",
              "    <tr>\n",
              "      <th>...</th>\n",
              "      <td>...</td>\n",
              "      <td>...</td>\n",
              "      <td>...</td>\n",
              "    </tr>\n",
              "    <tr>\n",
              "      <th>294</th>\n",
              "      <td>0,714285714</td>\n",
              "      <td>1</td>\n",
              "      <td>13572</td>\n",
              "    </tr>\n",
              "    <tr>\n",
              "      <th>295</th>\n",
              "      <td>0,285714286</td>\n",
              "      <td>0</td>\n",
              "      <td>13644</td>\n",
              "    </tr>\n",
              "    <tr>\n",
              "      <th>296</th>\n",
              "      <td>-1,714285714</td>\n",
              "      <td>-2</td>\n",
              "      <td>13674</td>\n",
              "    </tr>\n",
              "    <tr>\n",
              "      <th>297</th>\n",
              "      <td>0,571428571</td>\n",
              "      <td>1</td>\n",
              "      <td>13755</td>\n",
              "    </tr>\n",
              "    <tr>\n",
              "      <th>298</th>\n",
              "      <td>0,857142857</td>\n",
              "      <td>1</td>\n",
              "      <td>13778</td>\n",
              "    </tr>\n",
              "  </tbody>\n",
              "</table>\n",
              "<p>292 rows × 3 columns</p>\n",
              "</div>\n",
              "      <button class=\"colab-df-convert\" onclick=\"convertToInteractive('df-7529fa3a-b470-4f71-b74e-8a376c31b1b3')\"\n",
              "              title=\"Convert this dataframe to an interactive table.\"\n",
              "              style=\"display:none;\">\n",
              "        \n",
              "  <svg xmlns=\"http://www.w3.org/2000/svg\" height=\"24px\"viewBox=\"0 0 24 24\"\n",
              "       width=\"24px\">\n",
              "    <path d=\"M0 0h24v24H0V0z\" fill=\"none\"/>\n",
              "    <path d=\"M18.56 5.44l.94 2.06.94-2.06 2.06-.94-2.06-.94-.94-2.06-.94 2.06-2.06.94zm-11 1L8.5 8.5l.94-2.06 2.06-.94-2.06-.94L8.5 2.5l-.94 2.06-2.06.94zm10 10l.94 2.06.94-2.06 2.06-.94-2.06-.94-.94-2.06-.94 2.06-2.06.94z\"/><path d=\"M17.41 7.96l-1.37-1.37c-.4-.4-.92-.59-1.43-.59-.52 0-1.04.2-1.43.59L10.3 9.45l-7.72 7.72c-.78.78-.78 2.05 0 2.83L4 21.41c.39.39.9.59 1.41.59.51 0 1.02-.2 1.41-.59l7.78-7.78 2.81-2.81c.8-.78.8-2.07 0-2.86zM5.41 20L4 18.59l7.72-7.72 1.47 1.35L5.41 20z\"/>\n",
              "  </svg>\n",
              "      </button>\n",
              "      \n",
              "  <style>\n",
              "    .colab-df-container {\n",
              "      display:flex;\n",
              "      flex-wrap:wrap;\n",
              "      gap: 12px;\n",
              "    }\n",
              "\n",
              "    .colab-df-convert {\n",
              "      background-color: #E8F0FE;\n",
              "      border: none;\n",
              "      border-radius: 50%;\n",
              "      cursor: pointer;\n",
              "      display: none;\n",
              "      fill: #1967D2;\n",
              "      height: 32px;\n",
              "      padding: 0 0 0 0;\n",
              "      width: 32px;\n",
              "    }\n",
              "\n",
              "    .colab-df-convert:hover {\n",
              "      background-color: #E2EBFA;\n",
              "      box-shadow: 0px 1px 2px rgba(60, 64, 67, 0.3), 0px 1px 3px 1px rgba(60, 64, 67, 0.15);\n",
              "      fill: #174EA6;\n",
              "    }\n",
              "\n",
              "    [theme=dark] .colab-df-convert {\n",
              "      background-color: #3B4455;\n",
              "      fill: #D2E3FC;\n",
              "    }\n",
              "\n",
              "    [theme=dark] .colab-df-convert:hover {\n",
              "      background-color: #434B5C;\n",
              "      box-shadow: 0px 1px 3px 1px rgba(0, 0, 0, 0.15);\n",
              "      filter: drop-shadow(0px 1px 2px rgba(0, 0, 0, 0.3));\n",
              "      fill: #FFFFFF;\n",
              "    }\n",
              "  </style>\n",
              "\n",
              "      <script>\n",
              "        const buttonEl =\n",
              "          document.querySelector('#df-7529fa3a-b470-4f71-b74e-8a376c31b1b3 button.colab-df-convert');\n",
              "        buttonEl.style.display =\n",
              "          google.colab.kernel.accessAllowed ? 'block' : 'none';\n",
              "\n",
              "        async function convertToInteractive(key) {\n",
              "          const element = document.querySelector('#df-7529fa3a-b470-4f71-b74e-8a376c31b1b3');\n",
              "          const dataTable =\n",
              "            await google.colab.kernel.invokeFunction('convertToInteractive',\n",
              "                                                     [key], {});\n",
              "          if (!dataTable) return;\n",
              "\n",
              "          const docLinkHtml = 'Like what you see? Visit the ' +\n",
              "            '<a target=\"_blank\" href=https://colab.research.google.com/notebooks/data_table.ipynb>data table notebook</a>'\n",
              "            + ' to learn more about interactive tables.';\n",
              "          element.innerHTML = '';\n",
              "          dataTable['output_type'] = 'display_data';\n",
              "          await google.colab.output.renderOutput(dataTable, element);\n",
              "          const docLink = document.createElement('div');\n",
              "          docLink.innerHTML = docLinkHtml;\n",
              "          element.appendChild(docLink);\n",
              "        }\n",
              "      </script>\n",
              "    </div>\n",
              "  </div>\n",
              "  "
            ]
          },
          "metadata": {},
          "execution_count": 671
        }
      ]
    },
    {
      "cell_type": "code",
      "source": [
        "datacomp['Moyenne ']=datacomp['Moyenne '].str.replace(',','.')\n",
        "datacomp['Moyenne ']=datacomp['Moyenne '].astype(float)\n",
        "datacomp.rename(columns = {'Moyenne ':'Moyenne'}, inplace = True)"
      ],
      "metadata": {
        "id": "YvbPLskxHUWb"
      },
      "execution_count": null,
      "outputs": []
    },
    {
      "cell_type": "markdown",
      "source": [
        "On crée la target "
      ],
      "metadata": {
        "id": "qg9tLOtLdadN"
      }
    },
    {
      "cell_type": "code",
      "source": [
        "datacomp.Moyenne = [0 if i<-1.2 else 1 if i<-0.4 else 2 if i<0.4 else 3 if i<1.2 else 4 for i in datacomp.Moyenne]\n",
        "datacomp['MedianeBin'] = [0 if i<1 else 1 for i in datacomp.Mediane]\n",
        "datacomp.Mediane = [0 if i==-2 else 1 if i==-1 else 2 if i==0 else 3 if i==1 else 4 for i in datacomp.Mediane]\n",
        "#on adapte nos labels pour notre classification"
      ],
      "metadata": {
        "id": "zva2eJL-HaY3"
      },
      "execution_count": null,
      "outputs": []
    },
    {
      "cell_type": "code",
      "source": [
        "datacomp['Mediane'].count()"
      ],
      "metadata": {
        "colab": {
          "base_uri": "https://localhost:8080/"
        },
        "id": "hvbQh4VKHdE0",
        "outputId": "86d29c1b-bc22-4088-fb8f-89b1ece0fed7"
      },
      "execution_count": null,
      "outputs": [
        {
          "output_type": "execute_result",
          "data": {
            "text/plain": [
              "292"
            ]
          },
          "metadata": {},
          "execution_count": 674
        }
      ]
    },
    {
      "cell_type": "code",
      "source": [
        "datacomp.Mediane.value_counts()\n",
        "#on observe déja un déséquilibre dans les classes"
      ],
      "metadata": {
        "colab": {
          "base_uri": "https://localhost:8080/"
        },
        "id": "F5juu1FwHlR-",
        "outputId": "5c66d75f-8a61-4f06-cc89-780bc69d1825"
      },
      "execution_count": null,
      "outputs": [
        {
          "output_type": "execute_result",
          "data": {
            "text/plain": [
              "3    88\n",
              "4    81\n",
              "1    50\n",
              "2    40\n",
              "0    33\n",
              "Name: Mediane, dtype: int64"
            ]
          },
          "metadata": {},
          "execution_count": 675
        }
      ]
    },
    {
      "cell_type": "markdown",
      "source": [
        "### Préparation des données pour le réseau de neuronnes"
      ],
      "metadata": {
        "id": "0ip4wVQiNkvd"
      }
    },
    {
      "cell_type": "code",
      "source": [
        "X_train_full = matrix\n",
        "y_train_full = datacomp[['MedianeBin']]\n",
        "#on peut changer la métrique de notre label en choisissant La moyenne ou la médiane\n",
        "#y_train_full = datacomp[['Moyenne']]"
      ],
      "metadata": {
        "id": "bBMSdRcUNl2O"
      },
      "execution_count": null,
      "outputs": []
    },
    {
      "cell_type": "code",
      "source": [
        "# X_train, y_train = X_train_full[:240],y_train_full[:240]\n",
        "# X_test, y_test = X_train_full[240:],y_train_full[240:]"
      ],
      "metadata": {
        "id": "GNdnLZ_lNy3u"
      },
      "execution_count": null,
      "outputs": []
    },
    {
      "cell_type": "code",
      "source": [
        "from sklearn.model_selection import train_test_split\n",
        "X_train, X_test, y_train, y_test = train_test_split(X_train_full, y_train_full, test_size=0.2,random_state=123)"
      ],
      "metadata": {
        "id": "tKwf_qhHV6Kw"
      },
      "execution_count": null,
      "outputs": []
    },
    {
      "cell_type": "code",
      "source": [
        "print(X_test.shape)\n",
        "print(y_test.shape)"
      ],
      "metadata": {
        "colab": {
          "base_uri": "https://localhost:8080/"
        },
        "id": "pTqlLuiwN08D",
        "outputId": "4af6f1f3-a626-4a29-9d9a-05b3a1876d80"
      },
      "execution_count": null,
      "outputs": [
        {
          "output_type": "stream",
          "name": "stdout",
          "text": [
            "(59, 128, 87)\n",
            "(59, 1)\n"
          ]
        }
      ]
    },
    {
      "cell_type": "markdown",
      "source": [
        "###Constuire un model avec tf.keras.sequential"
      ],
      "metadata": {
        "id": "wwfqjXSYPPe5"
      }
    },
    {
      "cell_type": "code",
      "source": [
        "import tensorflow as tf\n",
        "from tensorflow import keras"
      ],
      "metadata": {
        "id": "tyEOELqEN_Wt"
      },
      "execution_count": null,
      "outputs": []
    },
    {
      "cell_type": "code",
      "source": [
        "keras.backend.clear_session()\n",
        "np.random.seed(42)\n",
        "tf.random.set_seed(42)"
      ],
      "metadata": {
        "id": "VaUQxfuUPwA1"
      },
      "execution_count": null,
      "outputs": []
    },
    {
      "cell_type": "code",
      "source": [
        "model = keras.Sequential(layers=[\n",
        "        keras.layers.InputLayer(input_shape=features[0].shape),\n",
        "        keras.layers.Conv2D(16, 3, padding='same', activation=keras.activations.relu),\n",
        "        keras.layers.MaxPooling2D(),\n",
        "        keras.layers.Conv2D(32, 3, padding='same', activation=keras.activations.relu),\n",
        "        keras.layers.MaxPooling2D(),\n",
        "        keras.layers.Flatten(),\n",
        "        keras.layers.Dropout(0.3),\n",
        "        keras.layers.Dense(64, activation=keras.activations.relu),\n",
        "        keras.layers.Dense(1, activation=keras.activations.sigmoid)\n",
        "    ])\n",
        "model.compile(optimizer=keras.optimizers.Adam(), loss=keras.losses.binary_crossentropy, metrics=['accuracy'])\n",
        "print(model.summary())"
      ],
      "metadata": {
        "colab": {
          "base_uri": "https://localhost:8080/"
        },
        "id": "5ovf6X5JPzNG",
        "outputId": "0b6c28b3-3c54-4ca1-82ab-060063e620ec"
      },
      "execution_count": null,
      "outputs": [
        {
          "output_type": "stream",
          "name": "stdout",
          "text": [
            "Model: \"sequential\"\n",
            "_________________________________________________________________\n",
            " Layer (type)                Output Shape              Param #   \n",
            "=================================================================\n",
            " conv2d (Conv2D)             (None, 128, 87, 16)       160       \n",
            "                                                                 \n",
            " max_pooling2d (MaxPooling2D  (None, 64, 43, 16)       0         \n",
            " )                                                               \n",
            "                                                                 \n",
            " conv2d_1 (Conv2D)           (None, 64, 43, 32)        4640      \n",
            "                                                                 \n",
            " max_pooling2d_1 (MaxPooling  (None, 32, 21, 32)       0         \n",
            " 2D)                                                             \n",
            "                                                                 \n",
            " flatten (Flatten)           (None, 21504)             0         \n",
            "                                                                 \n",
            " dropout (Dropout)           (None, 21504)             0         \n",
            "                                                                 \n",
            " dense (Dense)               (None, 64)                1376320   \n",
            "                                                                 \n",
            " dense_1 (Dense)             (None, 1)                 65        \n",
            "                                                                 \n",
            "=================================================================\n",
            "Total params: 1,381,185\n",
            "Trainable params: 1,381,185\n",
            "Non-trainable params: 0\n",
            "_________________________________________________________________\n",
            "None\n"
          ]
        }
      ]
    },
    {
      "cell_type": "code",
      "source": [
        "# Set parameters for data splitting and training\n",
        "TEST_SIZE = 0.2\n",
        "BATCH_SIZE = 25\n",
        "EPOCHS = 20\n",
        "\n",
        "# Encode Labels\n",
        "#encoded_labels = tf.one_hot(indices=labels, depth=10)\n",
        "# Split dataset to train and test data\n",
        "#X_train, X_test, y_train, y_test = train_test_split(features, encoded_labels.numpy(), test_size=TEST_SIZE)\n",
        "\n",
        "# Train the model\n",
        "early_stopping = keras.callbacks.EarlyStopping(monitor='val_loss', patience=3, restore_best_weights=True)\n",
        "history = model.fit(x=X_train, y=y_train, validation_split=TEST_SIZE, epochs=EPOCHS, batch_size=BATCH_SIZE, callbacks=[early_stopping])\n",
        "\n",
        "# Plot the training history\n",
        "fig, axs = plt.subplots(2)\n",
        "fig.set_size_inches(12, 8)\n",
        "fig.suptitle('Training History', fontsize=16)\n",
        "axs[0].plot(history.epoch, history.history['loss'], history.history['val_loss'])\n",
        "axs[0].set(title='Loss', xlabel='Epoch', ylabel='Loss')\n",
        "axs[0].legend(['loss', 'val_loss'])\n",
        "axs[1].plot(history.epoch, history.history['accuracy'], history.history['val_accuracy'])\n",
        "axs[1].set(title='Accuracy', xlabel='Epoch', ylabel='Accuracy')\n",
        "axs[1].legend(['accuracy', 'val_accuracy'])\n",
        "plt.show()"
      ],
      "metadata": {
        "colab": {
          "base_uri": "https://localhost:8080/",
          "height": 982
        },
        "id": "m5ENEnNpWCcK",
        "outputId": "1c943393-e788-4663-d5ef-47c57e3b0e06"
      },
      "execution_count": null,
      "outputs": [
        {
          "output_type": "stream",
          "name": "stdout",
          "text": [
            "Epoch 1/20\n",
            "8/8 [==============================] - 2s 167ms/step - loss: 21.2656 - accuracy: 0.5323 - val_loss: 14.9813 - val_accuracy: 0.5106\n",
            "Epoch 2/20\n",
            "8/8 [==============================] - 1s 129ms/step - loss: 4.4930 - accuracy: 0.6720 - val_loss: 2.8970 - val_accuracy: 0.6383\n",
            "Epoch 3/20\n",
            "8/8 [==============================] - 1s 140ms/step - loss: 1.6918 - accuracy: 0.8065 - val_loss: 1.4674 - val_accuracy: 0.7660\n",
            "Epoch 4/20\n",
            "8/8 [==============================] - 1s 141ms/step - loss: 0.6366 - accuracy: 0.8871 - val_loss: 1.0265 - val_accuracy: 0.7660\n",
            "Epoch 5/20\n",
            "8/8 [==============================] - 1s 137ms/step - loss: 0.2407 - accuracy: 0.9355 - val_loss: 0.8562 - val_accuracy: 0.7872\n",
            "Epoch 6/20\n",
            "8/8 [==============================] - 1s 131ms/step - loss: 0.1768 - accuracy: 0.9194 - val_loss: 0.7244 - val_accuracy: 0.7447\n",
            "Epoch 7/20\n",
            "8/8 [==============================] - 1s 131ms/step - loss: 0.0794 - accuracy: 0.9839 - val_loss: 0.7441 - val_accuracy: 0.7447\n",
            "Epoch 8/20\n",
            "8/8 [==============================] - 1s 135ms/step - loss: 0.0618 - accuracy: 0.9839 - val_loss: 0.7437 - val_accuracy: 0.7234\n",
            "Epoch 9/20\n",
            "8/8 [==============================] - 1s 141ms/step - loss: 0.0361 - accuracy: 0.9892 - val_loss: 0.6967 - val_accuracy: 0.7234\n",
            "Epoch 10/20\n",
            "8/8 [==============================] - 1s 142ms/step - loss: 0.0162 - accuracy: 1.0000 - val_loss: 0.7363 - val_accuracy: 0.7447\n",
            "Epoch 11/20\n",
            "8/8 [==============================] - 1s 141ms/step - loss: 0.0154 - accuracy: 1.0000 - val_loss: 0.8513 - val_accuracy: 0.7021\n",
            "Epoch 12/20\n",
            "8/8 [==============================] - 1s 144ms/step - loss: 0.0114 - accuracy: 1.0000 - val_loss: 0.9015 - val_accuracy: 0.7021\n"
          ]
        },
        {
          "output_type": "display_data",
          "data": {
            "text/plain": [
              "<Figure size 864x576 with 2 Axes>"
            ],
            "image/png": "[encoded data removed]"
          },
          "metadata": {
            "needs_background": "light"
          }
        }
      ]
    }
  ]
}