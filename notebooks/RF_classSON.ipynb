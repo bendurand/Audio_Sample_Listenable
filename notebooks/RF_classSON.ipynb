{
  "nbformat": 4,
  "nbformat_minor": 0,
  "metadata": {
    "colab": {
      "provenance": [],
      "authorship_tag": "ABX9TyMGIj6R9Hriuz/+JKzw50GF",
      "include_colab_link": true
    },
    "kernelspec": {
      "name": "python3",
      "display_name": "Python 3"
    },
    "language_info": {
      "name": "python"
    }
  },
  "cells": [
    {
      "cell_type": "markdown",
      "metadata": {
        "id": "view-in-github",
        "colab_type": "text"
      },
      "source": [
        "<a href=\"https://colab.research.google.com/github/nfonteyne/Audio_Sample_Listenable/blob/main/RF_classSON.ipynb\" target=\"_parent\"><img src=\"https://colab.research.google.com/assets/colab-badge.svg\" alt=\"Open In Colab\"/></a>"
      ]
    },
    {
      "cell_type": "markdown",
      "source": [
        "# Ce Notebook présente une autre méthode de ml nous permettant de réaliser une classification des échantillons audios\n",
        "\n",
        "✋J'ai réutilisé mon algo de P4A pour faire ce modèle mais je ne l'ai pas encore commenté. Vous pouvez me poser des questions dessus le temps que j'ajoute toutes les infos."
      ],
      "metadata": {
        "id": "NeJCmDqooWuL"
      }
    },
    {
      "cell_type": "markdown",
      "source": [
        "### Import des bibliothèques"
      ],
      "metadata": {
        "id": "oCVwdUJPohE4"
      }
    },
    {
      "cell_type": "code",
      "execution_count": null,
      "metadata": {
        "id": "QO1fjuzHoOvA"
      },
      "outputs": [],
      "source": [
        "import pandas as pd\n",
        "import numpy as np\n",
        "import matplotlib.pylab as plt\n",
        "import seaborn as sns\n",
        "\n",
        "from glob import glob\n",
        "\n",
        "import librosa\n",
        "import librosa.display\n",
        "import IPython.display as ipd\n",
        "from librosa import feature\n"
      ]
    },
    {
      "cell_type": "code",
      "source": [
        "from glob import glob\n",
        "data_dir = '.'\n",
        "audio_files = glob('./*.wav')\n",
        "len(audio_files)"
      ],
      "metadata": {
        "colab": {
          "base_uri": "https://localhost:8080/"
        },
        "id": "kEV2t8DRqRH7",
        "outputId": "71b19b65-c7ea-48d4-815c-47056337edd4"
      },
      "execution_count": null,
      "outputs": [
        {
          "output_type": "execute_result",
          "data": {
            "text/plain": [
              "299"
            ]
          },
          "metadata": {},
          "execution_count": 2
        }
      ]
    },
    {
      "cell_type": "code",
      "source": [
        "fn_list_i = [\n",
        "        feature.chroma_stft,\n",
        "        feature.spectral_centroid,\n",
        "        feature.spectral_bandwidth,\n",
        "        feature.spectral_rolloff,\n",
        "      ]\n",
        "      \n",
        "fn_list_ii = [\n",
        "            feature.zero_crossing_rate\n",
        "            ]\n",
        "      \n",
        "def get_feature_vector(y,sr):  \n",
        "  feat_vect_i = [ np.mean(funct(y,sr)) for funct in fn_list_i]\n",
        "  feat_vect_ii = [ np.mean(funct(y)) for funct in fn_list_ii]\n",
        "      \n",
        "  feature_vector =   feat_vect_i + feat_vect_ii  \n",
        "  return feature_vector\n",
        "    \n",
        "    #build the matrix with normal audios featurized\n",
        "audios_feat = []\n",
        "name_list = []\n",
        "for file in audio_files:\n",
        "  '''\n",
        "  y is the time series array of the audio file, a 1D np.ndarray\n",
        "  sr is the sampling rate, a number\n",
        "  '''  \n",
        "  y,sr = librosa.load(file,sr=None)   \n",
        "  feature_vector = get_feature_vector(y, sr) \n",
        "  audios_feat.append(feature_vector)\n",
        "  filename = int(str(file)[2:-4])\n",
        "  name_list.append(int(str(file)[2:-4]))  \n",
        "  #print('.', end= \" \")\n",
        "      \n",
        "  #print(audios_feat)\n",
        "      #.........................\n",
        "# import csv\n",
        "    \n",
        "# norm_output = 'normals_00.csv'\n",
        "    \n",
        "    \n",
        "header =[\n",
        "        'chroma_stft',\n",
        "        'spectral_centroid',\n",
        "        'spectral_bandwidth',\n",
        "        'spectral_rolloff',\n",
        "        'zero_crossing_rate',\n",
        "        ]\n",
        "    \n",
        "# #WARNING : this overwrites the file each time. Be aware of this because feature extraction step takes time.\n",
        "# with open(norm_output,'+w') as f:\n",
        "#   csv_writer = csv.writer(f, delimiter = ',')\n",
        "#   csv_writer.writerow(header)\n",
        "#   csv_writer.writerows(audios_feat)"
      ],
      "metadata": {
        "colab": {
          "base_uri": "https://localhost:8080/"
        },
        "id": "5HqSxBYMorB2",
        "outputId": "27f69781-0c40-487c-ad4a-4b35e5012fab"
      },
      "execution_count": null,
      "outputs": [
        {
          "output_type": "stream",
          "name": "stderr",
          "text": [
            "/usr/local/lib/python3.7/dist-packages/librosa/core/pitch.py:153: UserWarning: Trying to estimate tuning from empty frequency set.\n",
            "  warnings.warn(\"Trying to estimate tuning from empty frequency set.\")\n",
            "/usr/local/lib/python3.7/dist-packages/librosa/core/spectrum.py:224: UserWarning: n_fft=2048 is too small for input signal of length=2000\n",
            "  n_fft, y.shape[-1]\n"
          ]
        }
      ]
    },
    {
      "cell_type": "code",
      "source": [
        "features = pd.DataFrame(audios_feat, columns = header);\n",
        "name_feature =pd.DataFrame(name_list, columns = [\"name\"])\n",
        "features['name']= name_feature\n"
      ],
      "metadata": {
        "id": "HUOkRX-qq3JP"
      },
      "execution_count": null,
      "outputs": []
    },
    {
      "cell_type": "code",
      "source": [
        "features = features.sort_values(by=['name'])\n",
        "features.reset_index(drop=True, inplace=True)"
      ],
      "metadata": {
        "id": "IZS6UXh_r2Yr"
      },
      "execution_count": null,
      "outputs": []
    },
    {
      "cell_type": "code",
      "source": [
        "features.head()"
      ],
      "metadata": {
        "colab": {
          "base_uri": "https://localhost:8080/",
          "height": 204
        },
        "id": "ZBxr9vvVteo-",
        "outputId": "4e39ec60-dcd3-4db1-cda3-f779320fb6cc"
      },
      "execution_count": null,
      "outputs": [
        {
          "output_type": "execute_result",
          "data": {
            "text/plain": [
              "   chroma_stft  spectral_centroid  spectral_bandwidth  spectral_rolloff  \\\n",
              "0     0.608430        2942.983569         2459.215708       5576.131825   \n",
              "1     0.499858        2945.486981         2501.593221       4742.869448   \n",
              "2     0.327625        2922.354899         2858.299224       5670.832376   \n",
              "3     0.442552        2564.279030         2547.783075       4764.157858   \n",
              "4     0.061541         154.942156          145.966018        304.400147   \n",
              "\n",
              "   zero_crossing_rate  name  \n",
              "0            0.082947     0  \n",
              "1            0.106967    57  \n",
              "2            0.069548    94  \n",
              "3            0.079665   110  \n",
              "4            0.004079   135  "
            ],
            "text/html": [
              "\n",
              "  <div id=\"df-99cbcec3-50df-4acf-906f-904f964f88b0\">\n",
              "    <div class=\"colab-df-container\">\n",
              "      <div>\n",
              "<style scoped>\n",
              "    .dataframe tbody tr th:only-of-type {\n",
              "        vertical-align: middle;\n",
              "    }\n",
              "\n",
              "    .dataframe tbody tr th {\n",
              "        vertical-align: top;\n",
              "    }\n",
              "\n",
              "    .dataframe thead th {\n",
              "        text-align: right;\n",
              "    }\n",
              "</style>\n",
              "<table border=\"1\" class=\"dataframe\">\n",
              "  <thead>\n",
              "    <tr style=\"text-align: right;\">\n",
              "      <th></th>\n",
              "      <th>chroma_stft</th>\n",
              "      <th>spectral_centroid</th>\n",
              "      <th>spectral_bandwidth</th>\n",
              "      <th>spectral_rolloff</th>\n",
              "      <th>zero_crossing_rate</th>\n",
              "      <th>name</th>\n",
              "    </tr>\n",
              "  </thead>\n",
              "  <tbody>\n",
              "    <tr>\n",
              "      <th>0</th>\n",
              "      <td>0.608430</td>\n",
              "      <td>2942.983569</td>\n",
              "      <td>2459.215708</td>\n",
              "      <td>5576.131825</td>\n",
              "      <td>0.082947</td>\n",
              "      <td>0</td>\n",
              "    </tr>\n",
              "    <tr>\n",
              "      <th>1</th>\n",
              "      <td>0.499858</td>\n",
              "      <td>2945.486981</td>\n",
              "      <td>2501.593221</td>\n",
              "      <td>4742.869448</td>\n",
              "      <td>0.106967</td>\n",
              "      <td>57</td>\n",
              "    </tr>\n",
              "    <tr>\n",
              "      <th>2</th>\n",
              "      <td>0.327625</td>\n",
              "      <td>2922.354899</td>\n",
              "      <td>2858.299224</td>\n",
              "      <td>5670.832376</td>\n",
              "      <td>0.069548</td>\n",
              "      <td>94</td>\n",
              "    </tr>\n",
              "    <tr>\n",
              "      <th>3</th>\n",
              "      <td>0.442552</td>\n",
              "      <td>2564.279030</td>\n",
              "      <td>2547.783075</td>\n",
              "      <td>4764.157858</td>\n",
              "      <td>0.079665</td>\n",
              "      <td>110</td>\n",
              "    </tr>\n",
              "    <tr>\n",
              "      <th>4</th>\n",
              "      <td>0.061541</td>\n",
              "      <td>154.942156</td>\n",
              "      <td>145.966018</td>\n",
              "      <td>304.400147</td>\n",
              "      <td>0.004079</td>\n",
              "      <td>135</td>\n",
              "    </tr>\n",
              "  </tbody>\n",
              "</table>\n",
              "</div>\n",
              "      <button class=\"colab-df-convert\" onclick=\"convertToInteractive('df-99cbcec3-50df-4acf-906f-904f964f88b0')\"\n",
              "              title=\"Convert this dataframe to an interactive table.\"\n",
              "              style=\"display:none;\">\n",
              "        \n",
              "  <svg xmlns=\"http://www.w3.org/2000/svg\" height=\"24px\"viewBox=\"0 0 24 24\"\n",
              "       width=\"24px\">\n",
              "    <path d=\"M0 0h24v24H0V0z\" fill=\"none\"/>\n",
              "    <path d=\"M18.56 5.44l.94 2.06.94-2.06 2.06-.94-2.06-.94-.94-2.06-.94 2.06-2.06.94zm-11 1L8.5 8.5l.94-2.06 2.06-.94-2.06-.94L8.5 2.5l-.94 2.06-2.06.94zm10 10l.94 2.06.94-2.06 2.06-.94-2.06-.94-.94-2.06-.94 2.06-2.06.94z\"/><path d=\"M17.41 7.96l-1.37-1.37c-.4-.4-.92-.59-1.43-.59-.52 0-1.04.2-1.43.59L10.3 9.45l-7.72 7.72c-.78.78-.78 2.05 0 2.83L4 21.41c.39.39.9.59 1.41.59.51 0 1.02-.2 1.41-.59l7.78-7.78 2.81-2.81c.8-.78.8-2.07 0-2.86zM5.41 20L4 18.59l7.72-7.72 1.47 1.35L5.41 20z\"/>\n",
              "  </svg>\n",
              "      </button>\n",
              "      \n",
              "  <style>\n",
              "    .colab-df-container {\n",
              "      display:flex;\n",
              "      flex-wrap:wrap;\n",
              "      gap: 12px;\n",
              "    }\n",
              "\n",
              "    .colab-df-convert {\n",
              "      background-color: #E8F0FE;\n",
              "      border: none;\n",
              "      border-radius: 50%;\n",
              "      cursor: pointer;\n",
              "      display: none;\n",
              "      fill: #1967D2;\n",
              "      height: 32px;\n",
              "      padding: 0 0 0 0;\n",
              "      width: 32px;\n",
              "    }\n",
              "\n",
              "    .colab-df-convert:hover {\n",
              "      background-color: #E2EBFA;\n",
              "      box-shadow: 0px 1px 2px rgba(60, 64, 67, 0.3), 0px 1px 3px 1px rgba(60, 64, 67, 0.15);\n",
              "      fill: #174EA6;\n",
              "    }\n",
              "\n",
              "    [theme=dark] .colab-df-convert {\n",
              "      background-color: #3B4455;\n",
              "      fill: #D2E3FC;\n",
              "    }\n",
              "\n",
              "    [theme=dark] .colab-df-convert:hover {\n",
              "      background-color: #434B5C;\n",
              "      box-shadow: 0px 1px 3px 1px rgba(0, 0, 0, 0.15);\n",
              "      filter: drop-shadow(0px 1px 2px rgba(0, 0, 0, 0.3));\n",
              "      fill: #FFFFFF;\n",
              "    }\n",
              "  </style>\n",
              "\n",
              "      <script>\n",
              "        const buttonEl =\n",
              "          document.querySelector('#df-99cbcec3-50df-4acf-906f-904f964f88b0 button.colab-df-convert');\n",
              "        buttonEl.style.display =\n",
              "          google.colab.kernel.accessAllowed ? 'block' : 'none';\n",
              "\n",
              "        async function convertToInteractive(key) {\n",
              "          const element = document.querySelector('#df-99cbcec3-50df-4acf-906f-904f964f88b0');\n",
              "          const dataTable =\n",
              "            await google.colab.kernel.invokeFunction('convertToInteractive',\n",
              "                                                     [key], {});\n",
              "          if (!dataTable) return;\n",
              "\n",
              "          const docLinkHtml = 'Like what you see? Visit the ' +\n",
              "            '<a target=\"_blank\" href=https://colab.research.google.com/notebooks/data_table.ipynb>data table notebook</a>'\n",
              "            + ' to learn more about interactive tables.';\n",
              "          element.innerHTML = '';\n",
              "          dataTable['output_type'] = 'display_data';\n",
              "          await google.colab.output.renderOutput(dataTable, element);\n",
              "          const docLink = document.createElement('div');\n",
              "          docLink.innerHTML = docLinkHtml;\n",
              "          element.appendChild(docLink);\n",
              "        }\n",
              "      </script>\n",
              "    </div>\n",
              "  </div>\n",
              "  "
            ]
          },
          "metadata": {},
          "execution_count": 6
        }
      ]
    },
    {
      "cell_type": "code",
      "source": [
        "datacomp=pd.read_csv(\"Labels3files.csv\",sep=\";\")"
      ],
      "metadata": {
        "id": "BN5Ra7-xuL2R"
      },
      "execution_count": null,
      "outputs": []
    },
    {
      "cell_type": "code",
      "source": [
        "datacomp['Moyenne ']=datacomp['Moyenne '].str.replace(',','.')\n",
        "datacomp['Moyenne ']=datacomp['Moyenne '].astype(float)\n",
        "datacomp.rename(columns = {'Moyenne ':'Moyenne'}, inplace = True)"
      ],
      "metadata": {
        "id": "mwY2Q1rHuPll"
      },
      "execution_count": null,
      "outputs": []
    },
    {
      "cell_type": "code",
      "source": [
        "datacomp.Moyenne = [0 if i<-1.2 else 1 if i<-0.4 else 2 if i<0.4 else 3 if i<1.2 else 4 for i in datacomp.Moyenne]\n",
        "datacomp['MedianeBin'] = [0 if i<1 else 1 for i in datacomp.Mediane]\n",
        "datacomp['MedianeBin'] = datacomp['MedianeBin'].astype(int)\n",
        "datacomp.Mediane = [0 if i==-2 else 1 if i==-1 else 2 if i==0 else 3 if i==1 else 4 for i in datacomp.Mediane]\n",
        "#on adapte nos labels pour notre classification"
      ],
      "metadata": {
        "id": "xeQO0uuFuVG8"
      },
      "execution_count": null,
      "outputs": []
    },
    {
      "cell_type": "code",
      "source": [
        "features.head()"
      ],
      "metadata": {
        "id": "0mrPH9HkAfgS",
        "outputId": "6030d943-6ea8-42fa-96d7-de56dcf0939f",
        "colab": {
          "base_uri": "https://localhost:8080/",
          "height": 204
        }
      },
      "execution_count": null,
      "outputs": [
        {
          "output_type": "execute_result",
          "data": {
            "text/plain": [
              "   chroma_stft  spectral_centroid  spectral_bandwidth  spectral_rolloff  \\\n",
              "0     0.608430        2942.983569         2459.215708       5576.131825   \n",
              "1     0.499858        2945.486981         2501.593221       4742.869448   \n",
              "2     0.327625        2922.354899         2858.299224       5670.832376   \n",
              "3     0.442552        2564.279030         2547.783075       4764.157858   \n",
              "4     0.061541         154.942156          145.966018        304.400147   \n",
              "\n",
              "   zero_crossing_rate  name  \n",
              "0            0.082947     0  \n",
              "1            0.106967    57  \n",
              "2            0.069548    94  \n",
              "3            0.079665   110  \n",
              "4            0.004079   135  "
            ],
            "text/html": [
              "\n",
              "  <div id=\"df-b696548c-686e-4113-949f-0391604e606b\">\n",
              "    <div class=\"colab-df-container\">\n",
              "      <div>\n",
              "<style scoped>\n",
              "    .dataframe tbody tr th:only-of-type {\n",
              "        vertical-align: middle;\n",
              "    }\n",
              "\n",
              "    .dataframe tbody tr th {\n",
              "        vertical-align: top;\n",
              "    }\n",
              "\n",
              "    .dataframe thead th {\n",
              "        text-align: right;\n",
              "    }\n",
              "</style>\n",
              "<table border=\"1\" class=\"dataframe\">\n",
              "  <thead>\n",
              "    <tr style=\"text-align: right;\">\n",
              "      <th></th>\n",
              "      <th>chroma_stft</th>\n",
              "      <th>spectral_centroid</th>\n",
              "      <th>spectral_bandwidth</th>\n",
              "      <th>spectral_rolloff</th>\n",
              "      <th>zero_crossing_rate</th>\n",
              "      <th>name</th>\n",
              "    </tr>\n",
              "  </thead>\n",
              "  <tbody>\n",
              "    <tr>\n",
              "      <th>0</th>\n",
              "      <td>0.608430</td>\n",
              "      <td>2942.983569</td>\n",
              "      <td>2459.215708</td>\n",
              "      <td>5576.131825</td>\n",
              "      <td>0.082947</td>\n",
              "      <td>0</td>\n",
              "    </tr>\n",
              "    <tr>\n",
              "      <th>1</th>\n",
              "      <td>0.499858</td>\n",
              "      <td>2945.486981</td>\n",
              "      <td>2501.593221</td>\n",
              "      <td>4742.869448</td>\n",
              "      <td>0.106967</td>\n",
              "      <td>57</td>\n",
              "    </tr>\n",
              "    <tr>\n",
              "      <th>2</th>\n",
              "      <td>0.327625</td>\n",
              "      <td>2922.354899</td>\n",
              "      <td>2858.299224</td>\n",
              "      <td>5670.832376</td>\n",
              "      <td>0.069548</td>\n",
              "      <td>94</td>\n",
              "    </tr>\n",
              "    <tr>\n",
              "      <th>3</th>\n",
              "      <td>0.442552</td>\n",
              "      <td>2564.279030</td>\n",
              "      <td>2547.783075</td>\n",
              "      <td>4764.157858</td>\n",
              "      <td>0.079665</td>\n",
              "      <td>110</td>\n",
              "    </tr>\n",
              "    <tr>\n",
              "      <th>4</th>\n",
              "      <td>0.061541</td>\n",
              "      <td>154.942156</td>\n",
              "      <td>145.966018</td>\n",
              "      <td>304.400147</td>\n",
              "      <td>0.004079</td>\n",
              "      <td>135</td>\n",
              "    </tr>\n",
              "  </tbody>\n",
              "</table>\n",
              "</div>\n",
              "      <button class=\"colab-df-convert\" onclick=\"convertToInteractive('df-b696548c-686e-4113-949f-0391604e606b')\"\n",
              "              title=\"Convert this dataframe to an interactive table.\"\n",
              "              style=\"display:none;\">\n",
              "        \n",
              "  <svg xmlns=\"http://www.w3.org/2000/svg\" height=\"24px\"viewBox=\"0 0 24 24\"\n",
              "       width=\"24px\">\n",
              "    <path d=\"M0 0h24v24H0V0z\" fill=\"none\"/>\n",
              "    <path d=\"M18.56 5.44l.94 2.06.94-2.06 2.06-.94-2.06-.94-.94-2.06-.94 2.06-2.06.94zm-11 1L8.5 8.5l.94-2.06 2.06-.94-2.06-.94L8.5 2.5l-.94 2.06-2.06.94zm10 10l.94 2.06.94-2.06 2.06-.94-2.06-.94-.94-2.06-.94 2.06-2.06.94z\"/><path d=\"M17.41 7.96l-1.37-1.37c-.4-.4-.92-.59-1.43-.59-.52 0-1.04.2-1.43.59L10.3 9.45l-7.72 7.72c-.78.78-.78 2.05 0 2.83L4 21.41c.39.39.9.59 1.41.59.51 0 1.02-.2 1.41-.59l7.78-7.78 2.81-2.81c.8-.78.8-2.07 0-2.86zM5.41 20L4 18.59l7.72-7.72 1.47 1.35L5.41 20z\"/>\n",
              "  </svg>\n",
              "      </button>\n",
              "      \n",
              "  <style>\n",
              "    .colab-df-container {\n",
              "      display:flex;\n",
              "      flex-wrap:wrap;\n",
              "      gap: 12px;\n",
              "    }\n",
              "\n",
              "    .colab-df-convert {\n",
              "      background-color: #E8F0FE;\n",
              "      border: none;\n",
              "      border-radius: 50%;\n",
              "      cursor: pointer;\n",
              "      display: none;\n",
              "      fill: #1967D2;\n",
              "      height: 32px;\n",
              "      padding: 0 0 0 0;\n",
              "      width: 32px;\n",
              "    }\n",
              "\n",
              "    .colab-df-convert:hover {\n",
              "      background-color: #E2EBFA;\n",
              "      box-shadow: 0px 1px 2px rgba(60, 64, 67, 0.3), 0px 1px 3px 1px rgba(60, 64, 67, 0.15);\n",
              "      fill: #174EA6;\n",
              "    }\n",
              "\n",
              "    [theme=dark] .colab-df-convert {\n",
              "      background-color: #3B4455;\n",
              "      fill: #D2E3FC;\n",
              "    }\n",
              "\n",
              "    [theme=dark] .colab-df-convert:hover {\n",
              "      background-color: #434B5C;\n",
              "      box-shadow: 0px 1px 3px 1px rgba(0, 0, 0, 0.15);\n",
              "      filter: drop-shadow(0px 1px 2px rgba(0, 0, 0, 0.3));\n",
              "      fill: #FFFFFF;\n",
              "    }\n",
              "  </style>\n",
              "\n",
              "      <script>\n",
              "        const buttonEl =\n",
              "          document.querySelector('#df-b696548c-686e-4113-949f-0391604e606b button.colab-df-convert');\n",
              "        buttonEl.style.display =\n",
              "          google.colab.kernel.accessAllowed ? 'block' : 'none';\n",
              "\n",
              "        async function convertToInteractive(key) {\n",
              "          const element = document.querySelector('#df-b696548c-686e-4113-949f-0391604e606b');\n",
              "          const dataTable =\n",
              "            await google.colab.kernel.invokeFunction('convertToInteractive',\n",
              "                                                     [key], {});\n",
              "          if (!dataTable) return;\n",
              "\n",
              "          const docLinkHtml = 'Like what you see? Visit the ' +\n",
              "            '<a target=\"_blank\" href=https://colab.research.google.com/notebooks/data_table.ipynb>data table notebook</a>'\n",
              "            + ' to learn more about interactive tables.';\n",
              "          element.innerHTML = '';\n",
              "          dataTable['output_type'] = 'display_data';\n",
              "          await google.colab.output.renderOutput(dataTable, element);\n",
              "          const docLink = document.createElement('div');\n",
              "          docLink.innerHTML = docLinkHtml;\n",
              "          element.appendChild(docLink);\n",
              "        }\n",
              "      </script>\n",
              "    </div>\n",
              "  </div>\n",
              "  "
            ]
          },
          "metadata": {},
          "execution_count": 12
        }
      ]
    },
    {
      "cell_type": "code",
      "source": [
        "datacomp.Mediane.unique()"
      ],
      "metadata": {
        "colab": {
          "base_uri": "https://localhost:8080/"
        },
        "id": "hV4nsvp8uYqf",
        "outputId": "d10dd71d-c5ea-4966-dd07-ed2a21f94916"
      },
      "execution_count": null,
      "outputs": [
        {
          "output_type": "execute_result",
          "data": {
            "text/plain": [
              "array([3, 2, 4, 0, 1])"
            ]
          },
          "metadata": {},
          "execution_count": 13
        }
      ]
    },
    {
      "cell_type": "code",
      "source": [
        "datacomp.Mediane.value_counts()"
      ],
      "metadata": {
        "colab": {
          "base_uri": "https://localhost:8080/"
        },
        "id": "vIHJS0QwucsF",
        "outputId": "53574651-6068-4c31-d6ce-3fe1c8291934"
      },
      "execution_count": null,
      "outputs": [
        {
          "output_type": "execute_result",
          "data": {
            "text/plain": [
              "3    88\n",
              "4    81\n",
              "1    50\n",
              "2    43\n",
              "0    37\n",
              "Name: Mediane, dtype: int64"
            ]
          },
          "metadata": {},
          "execution_count": 14
        }
      ]
    },
    {
      "cell_type": "code",
      "source": [
        "datacomp['MedianeBin'].value_counts().plot(kind='bar')"
      ],
      "metadata": {
        "colab": {
          "base_uri": "https://localhost:8080/",
          "height": 279
        },
        "id": "x1y7K4oQu8Ah",
        "outputId": "eb52cbd9-9c06-4845-ba3c-aecafe00b9b5"
      },
      "execution_count": null,
      "outputs": [
        {
          "output_type": "execute_result",
          "data": {
            "text/plain": [
              "<matplotlib.axes._subplots.AxesSubplot at 0x7f327bfc08d0>"
            ]
          },
          "metadata": {},
          "execution_count": 15
        },
        {
          "output_type": "display_data",
          "data": {
            "text/plain": [
              "<Figure size 432x288 with 1 Axes>"
            ],
            "image/png": "[encoded data removed]"
          },
          "metadata": {
            "needs_background": "light"
          }
        }
      ]
    },
    {
      "cell_type": "code",
      "source": [
        "features['Mediane'] = datacomp['Mediane']\n",
        "features['Moyenne'] = datacomp['Moyenne']\n",
        "features['MedianeBin'] = datacomp['MedianeBin']\n"
      ],
      "metadata": {
        "id": "LuRSvhllwtik"
      },
      "execution_count": null,
      "outputs": []
    },
    {
      "cell_type": "code",
      "source": [
        "features.to_csv('featuresRF.csv')  "
      ],
      "metadata": {
        "id": "s-UM4JIF2tmu"
      },
      "execution_count": null,
      "outputs": []
    },
    {
      "cell_type": "code",
      "source": [
        "def parse_model_0(X: pd.DataFrame):\n",
        "  target = X[['Moyenne ']]\n",
        "  X = X[['chroma_stft', 'spectral_centroid', 'spectral_centroid','spectral_rolloff','zero_crossing_rate']]\n",
        "  return X, target"
      ],
      "metadata": {
        "id": "hXSQKkkJu9aR"
      },
      "execution_count": null,
      "outputs": []
    },
    {
      "cell_type": "code",
      "source": [
        "# split into training set and testing set\n",
        "from sklearn.model_selection import train_test_split\n",
        "from sklearn.linear_model import LinearRegression\n",
        "from sklearn.model_selection import train_test_split\n",
        "from sklearn.metrics import mean_squared_error\n",
        "from sklearn.metrics import r2_score\n",
        "from sklearn.metrics import classification_report\n",
        "\n",
        "# set random_state to get the same split every time\n",
        "traindf, testdf = train_test_split(features, test_size=0.2, random_state=42)"
      ],
      "metadata": {
        "id": "VCEPDDlEvO-m"
      },
      "execution_count": null,
      "outputs": []
    },
    {
      "cell_type": "code",
      "source": [
        "datacomp['MedianeBin']"
      ],
      "metadata": {
        "colab": {
          "base_uri": "https://localhost:8080/"
        },
        "id": "jkM6FTuQzTlY",
        "outputId": "7dc86698-5770-4fbf-aa30-7bc8b967520f"
      },
      "execution_count": null,
      "outputs": [
        {
          "output_type": "execute_result",
          "data": {
            "text/plain": [
              "0      1\n",
              "1      0\n",
              "2      1\n",
              "3      1\n",
              "4      1\n",
              "      ..\n",
              "294    1\n",
              "295    0\n",
              "296    0\n",
              "297    1\n",
              "298    1\n",
              "Name: MedianeBin, Length: 299, dtype: int64"
            ]
          },
          "metadata": {},
          "execution_count": 19
        }
      ]
    },
    {
      "cell_type": "code",
      "source": [
        "y_train=traindf[['MedianeBin']]\n",
        "X_train=traindf[['chroma_stft', 'spectral_centroid', 'spectral_centroid','spectral_rolloff','zero_crossing_rate']]\n",
        "\n",
        "y_test=testdf[['MedianeBin']]\n",
        "X_test=testdf[['chroma_stft', 'spectral_centroid', 'spectral_centroid','spectral_rolloff','zero_crossing_rate']]"
      ],
      "metadata": {
        "id": "Dt0DaIc0vP7p"
      },
      "execution_count": null,
      "outputs": []
    },
    {
      "cell_type": "code",
      "source": [
        "from sklearn.model_selection import train_test_split\n",
        "from sklearn.preprocessing import StandardScaler\n",
        "from sklearn.linear_model import LogisticRegression\n",
        "from sklearn.pipeline import Pipeline\n",
        "from sklearn.metrics import roc_curve, roc_auc_score, classification_report, accuracy_score, confusion_matrix "
      ],
      "metadata": {
        "id": "P6R3las8wg0R"
      },
      "execution_count": null,
      "outputs": []
    },
    {
      "cell_type": "code",
      "source": [
        "from sklearn.model_selection import cross_val_score\n",
        "def compute_score(clf, X: pd.DataFrame, y: pd.Series) -> float:\n",
        "  xval = cross_val_score(clf, X, y, cv = 5)\n",
        "  return np.mean(xval), np.std(xval)"
      ],
      "metadata": {
        "id": "IOFrWU2JxbwT"
      },
      "execution_count": null,
      "outputs": []
    },
    {
      "cell_type": "code",
      "source": [
        "from sklearn.preprocessing import StandardScaler\n",
        "\n",
        "sc = StandardScaler()\n",
        "X_train = sc.fit_transform(X_train)\n",
        "X_test = sc.transform(X_test)\n",
        "\n",
        "from sklearn.ensemble import RandomForestClassifier\n",
        "\n",
        "regressor = RandomForestClassifier(n_estimators=1000)\n",
        "regressor.fit(X_train, y_train)\n",
        "y_pred = regressor.predict(X_test)\n",
        "\n",
        "compute_score(regressor, X_test, y_test)"
      ],
      "metadata": {
        "colab": {
          "base_uri": "https://localhost:8080/"
        },
        "id": "7HsRPwx_vXhv",
        "outputId": "2cc6b6a3-c80d-4ee6-ecf9-42efc22e7d5d"
      },
      "execution_count": null,
      "outputs": [
        {
          "output_type": "stream",
          "name": "stderr",
          "text": [
            "/usr/local/lib/python3.7/dist-packages/ipykernel_launcher.py:10: DataConversionWarning: A column-vector y was passed when a 1d array was expected. Please change the shape of y to (n_samples,), for example using ravel().\n",
            "  # Remove the CWD from sys.path while we load stuff.\n",
            "/usr/local/lib/python3.7/dist-packages/sklearn/model_selection/_validation.py:680: DataConversionWarning: A column-vector y was passed when a 1d array was expected. Please change the shape of y to (n_samples,), for example using ravel().\n",
            "  estimator.fit(X_train, y_train, **fit_params)\n",
            "/usr/local/lib/python3.7/dist-packages/sklearn/model_selection/_validation.py:680: DataConversionWarning: A column-vector y was passed when a 1d array was expected. Please change the shape of y to (n_samples,), for example using ravel().\n",
            "  estimator.fit(X_train, y_train, **fit_params)\n",
            "/usr/local/lib/python3.7/dist-packages/sklearn/model_selection/_validation.py:680: DataConversionWarning: A column-vector y was passed when a 1d array was expected. Please change the shape of y to (n_samples,), for example using ravel().\n",
            "  estimator.fit(X_train, y_train, **fit_params)\n",
            "/usr/local/lib/python3.7/dist-packages/sklearn/model_selection/_validation.py:680: DataConversionWarning: A column-vector y was passed when a 1d array was expected. Please change the shape of y to (n_samples,), for example using ravel().\n",
            "  estimator.fit(X_train, y_train, **fit_params)\n",
            "/usr/local/lib/python3.7/dist-packages/sklearn/model_selection/_validation.py:680: DataConversionWarning: A column-vector y was passed when a 1d array was expected. Please change the shape of y to (n_samples,), for example using ravel().\n",
            "  estimator.fit(X_train, y_train, **fit_params)\n"
          ]
        },
        {
          "output_type": "execute_result",
          "data": {
            "text/plain": [
              "0.6666666666666666"
            ]
          },
          "metadata": {},
          "execution_count": 23
        }
      ]
    },
    {
      "cell_type": "code",
      "source": [
        "y_test_hat = regressor.predict(X_test)\n",
        "#y_test_hat_probs = regressor.predict_proba(X_test)[:,1]\n",
        "\n",
        "test_accuracy = accuracy_score(y_test, y_test_hat)*100\n",
        "#test_auc_roc = roc_auc_score(y_test, y_test_hat_probs)*100\n",
        "\n",
        "print('Confusion matrix:\\n', confusion_matrix(y_test, y_test_hat))\n",
        "\n",
        "#print('Testing AUC: %.4f %%' % test_auc_roc)\n",
        "\n",
        "print('Testing accuracy: %.4f %%' % test_accuracy)"
      ],
      "metadata": {
        "colab": {
          "base_uri": "https://localhost:8080/"
        },
        "id": "C9PjCKNGwUoJ",
        "outputId": "f0d4d094-f5dd-4bcc-c358-3fa41a662dfe"
      },
      "execution_count": null,
      "outputs": [
        {
          "output_type": "stream",
          "name": "stdout",
          "text": [
            "Confusion matrix:\n",
            " [[18  6]\n",
            " [ 8 28]]\n",
            "Testing accuracy: 76.6667 %\n"
          ]
        }
      ]
    }
  ]
}